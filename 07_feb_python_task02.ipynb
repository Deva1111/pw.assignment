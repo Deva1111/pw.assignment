{
 "cells": [
  {
   "cell_type": "code",
   "execution_count": 14,
   "id": "7c3607db-6482-4f3a-aabd-09063a243711",
   "metadata": {},
   "outputs": [
    {
     "name": "stdout",
     "output_type": "stream",
     "text": [
      "Invalid Password\n",
      "Valid Password\n",
      "Invalid Password\n"
     ]
    }
   ],
   "source": [
    "'''\n",
    "Q1. You are writing code for a company. The requirement of the company is that you create a python \n",
    "function that will check whether the password entered by the user is correct or not. The function should \n",
    "take the password as input and return the string “Valid Password” if the entered password follows the \n",
    "below-given password guidelines else it should return “Invalid Password”.\n",
    "\n",
    "Note: 1. The Password should contain at least two uppercase letters and at least two lowercase letters.\n",
    "      2. The Password should contain at least a number and three special characters.\n",
    "      3. The length of the password should be 10 characters long.\n",
    "      '''\n",
    "\n",
    "def password_check(password):\n",
    "    \n",
    "    num_upper = sum(1 for char in password if char.isupper())\n",
    "    num_lower = sum(1 for char in password if char.islower())\n",
    "    \n",
    "    num_digits = sum(1 for char in password if char.isdigit())\n",
    "    num_spl_char = sum(1 for char in password if not char.isalnum())\n",
    "    \n",
    "    if (num_upper >= 2 and num_lower >= 2 and num_digits >= 1 \n",
    "        and num_spl_char >= 3 and len(password) >= 10):\n",
    "        return \"Valid Password\"\n",
    "    else:\n",
    "        return \"Invalid Password\"\n",
    "    \n",
    "    \n",
    "print(password_check(\"Password123!\"))\n",
    "print(password_check(\"PAsddggs@@ord12!\"))\n",
    "print(password_check(\"Password123!\"))"
   ]
  },
  {
   "cell_type": "code",
   "execution_count": 15,
   "id": "ee76cbd8-b19f-427d-bc09-b9dd9ddb182a",
   "metadata": {},
   "outputs": [
    {
     "name": "stdout",
     "output_type": "stream",
     "text": [
      "['banana']\n",
      "['123']\n",
      "[('orange', 80), ('mango', 99), ('grapes', 1000)]\n",
      "[1, 4, 9, 16, 25, 36, 49, 64, 81, 100]\n",
      "[1.0, 1.2599210498948732, 1.4422495703074083, 1.5874010519681994, 1.7099759466766968, 1.8171205928321397, 1.912931182772389, 2.0, 2.080083823051904, 2.154434690031884]\n",
      "False\n",
      "[1, 3, 5, 7, 9]\n",
      "[1, 2, 3, 4, 5, 6]\n",
      "[-1, -2, -3, -4, -5]\n"
     ]
    }
   ],
   "source": [
    "'''Q2. Solve the below-given questions using at least one of the following: \n",
    "\n",
    "1. Lambda function\n",
    "2. Filter function\n",
    "3. Zap function\n",
    "4. List Comprehension\n",
    "'''\n",
    "#1. Check if the string starts with a particular letter:\n",
    "string_list = ['apple', 'banana', 'cherry', 'date']\n",
    "letter = 'b'\n",
    "result = [s for s in string_list if s.startswith(letter)]\n",
    "print(result)  \n",
    "\n",
    "\n",
    "#2. Check if the string is numeric using Lambda function:\n",
    "string_list = ['apple', '123', 'cherry', '456.78', 'date']\n",
    "result = list(filter(lambda s: s.isnumeric(), string_list))\n",
    "print(result) \n",
    "\n",
    "\n",
    "#3. Sort a list of tuples having fruit names and their quantity using Lambda function:\n",
    "fruit_list = [(\"mango\", 99), (\"orange\", 80), (\"grapes\", 1000)]\n",
    "result = sorted(fruit_list, key=lambda x: x[1])\n",
    "print(result) \n",
    "\n",
    "\n",
    "#4.Find the squares of numbers from 1 to 10 using List Comprehension:\n",
    "squares = [x**2 for x in range(1, 11)]\n",
    "print(squares)  \n",
    "\n",
    "#5. Find the cube root of numbers from 1 to 10 using Lambda function:\n",
    "import math\n",
    "numbers = range(1, 11)\n",
    "result = list(map(lambda x: math.pow(x, 1/3), numbers))\n",
    "print(result)  \n",
    "\n",
    "\n",
    "#6. Check if a given number is even using Lambda function:\n",
    "number = 5\n",
    "result = lambda x: x % 2 == 0\n",
    "print(result(number))  \n",
    "\n",
    "\n",
    "#7.Filter odd numbers from the given list using Lambda function:\n",
    "numbers = [1, 2, 3, 4, 5, 6, 7, 8, 9, 10]\n",
    "result = list(filter(lambda x: x % 2 != 0, numbers))\n",
    "print(result)  \n",
    "\n",
    "\n",
    "#8. Sort a list of integers into positive and negative integers lists using List Comprehension:\n",
    "numbers = [1, 2, 3, 4, 5, 6, -1, -2, -3, -4, -5, 0]\n",
    "positive_numbers = [x for x in numbers if x > 0]\n",
    "negative_numbers = [x for x in numbers if x < 0]\n",
    "print(positive_numbers) \n",
    "print(negative_numbers)  \n",
    "\n",
    "\n",
    "\n",
    "\n",
    "\n",
    " "
   ]
  },
  {
   "cell_type": "code",
   "execution_count": null,
   "id": "68b82e7e-5d6e-47df-a02e-3c583d377225",
   "metadata": {},
   "outputs": [],
   "source": []
  },
  {
   "cell_type": "code",
   "execution_count": null,
   "id": "4e147a35-58fb-4bfb-b826-7e353ab0d5aa",
   "metadata": {},
   "outputs": [],
   "source": []
  }
 ],
 "metadata": {
  "kernelspec": {
   "display_name": "Python 3 (ipykernel)",
   "language": "python",
   "name": "python3"
  },
  "language_info": {
   "codemirror_mode": {
    "name": "ipython",
    "version": 3
   },
   "file_extension": ".py",
   "mimetype": "text/x-python",
   "name": "python",
   "nbconvert_exporter": "python",
   "pygments_lexer": "ipython3",
   "version": "3.10.8"
  }
 },
 "nbformat": 4,
 "nbformat_minor": 5
}
