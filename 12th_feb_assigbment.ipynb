{
 "cells": [
  {
   "cell_type": "code",
   "execution_count": 2,
   "id": "75aa2467-f72c-4619-afc8-62ea8fba8012",
   "metadata": {},
   "outputs": [],
   "source": [
    "#Q1. What is an Exception in python? Write the difference between Exceptions and Syntax errors.\n",
    "\n",
    "'''\n",
    "In Python, an exception is an error that occurs during the execution of a program. When an exception occurs, the normal flow of \n",
    "the program is disrupted, and Python generates an exception object, which contains information about the error, such as its type \n",
    "and message.\n",
    "\n",
    "Syntax errors, on the other hand, are errors that occur when Python is unable to parse the code due to a violation of the language \n",
    "syntax rules. Syntax errors are detected by the Python interpreter during the parsing phase, before the code is executed. \n",
    "\n",
    "Here are some key differences between exceptions and syntax errors:\n",
    "\n",
    "1. Detection Time: Syntax errors are detected during the parsing phase, before the code is executed. Exceptions are detected during\n",
    "   the execution of the code.\n",
    "\n",
    "2. Cause: Syntax errors are caused by mistakes in the code syntax, such as missing parentheses, commas, or colons. Exceptions \n",
    "   are caused by runtime errors, such as division by zero or accessing an undefined variable.\n",
    "\n",
    "3. Handling: Syntax errors cannot be handled at runtime and must be fixed before the code is executed. Exceptions can be handled \n",
    "   using try-except blocks, which allow you to gracefully handle exceptions and continue the program execution.\n",
    "\n",
    "4. Error Message: Syntax errors are accompanied by error messages that indicate the specific location of the error in the code. \n",
    "   Exceptions also come with error messages, but these messages provide more information about the cause of the error, such as the type of the exception and the line of code that caused it.\n",
    "\n",
    "Overall, exceptions are a type of runtime error that can be handled at runtime, while syntax errors are a type of parsing error \n",
    "that must be fixed before the code is executed.\n",
    "'''\n",
    "pass"
   ]
  },
  {
   "cell_type": "code",
   "execution_count": 4,
   "id": "5e9918ff-2118-4f84-8857-8f2a991891f5",
   "metadata": {},
   "outputs": [
    {
     "ename": "ZeroDivisionError",
     "evalue": "division by zero",
     "output_type": "error",
     "traceback": [
      "\u001b[0;31m---------------------------------------------------------------------------\u001b[0m",
      "\u001b[0;31mZeroDivisionError\u001b[0m                         Traceback (most recent call last)",
      "Cell \u001b[0;32mIn[4], line 12\u001b[0m\n\u001b[1;32m      9\u001b[0m \u001b[38;5;28;01mdef\u001b[39;00m \u001b[38;5;21mdivide_numbers\u001b[39m(a, b):\n\u001b[1;32m     10\u001b[0m     \u001b[38;5;28;01mreturn\u001b[39;00m a \u001b[38;5;241m/\u001b[39m b\n\u001b[0;32m---> 12\u001b[0m result \u001b[38;5;241m=\u001b[39m \u001b[43mdivide_numbers\u001b[49m\u001b[43m(\u001b[49m\u001b[38;5;241;43m10\u001b[39;49m\u001b[43m,\u001b[49m\u001b[43m \u001b[49m\u001b[38;5;241;43m0\u001b[39;49m\u001b[43m)\u001b[49m\n\u001b[1;32m     13\u001b[0m \u001b[38;5;28mprint\u001b[39m(result)\n\u001b[1;32m     15\u001b[0m \u001b[38;5;124;03m'''\u001b[39;00m\n\u001b[1;32m     16\u001b[0m \u001b[38;5;124;03mIn this example, the divide_numbers() function attempts to divide the first argument by the second argument. However, when the\u001b[39;00m\n\u001b[1;32m     17\u001b[0m \u001b[38;5;124;03msecond argument is zero, a ZeroDivisionError exception is raised.\u001b[39;00m\n\u001b[1;32m     18\u001b[0m \u001b[38;5;124;03m'''\u001b[39;00m\n",
      "Cell \u001b[0;32mIn[4], line 10\u001b[0m, in \u001b[0;36mdivide_numbers\u001b[0;34m(a, b)\u001b[0m\n\u001b[1;32m      9\u001b[0m \u001b[38;5;28;01mdef\u001b[39;00m \u001b[38;5;21mdivide_numbers\u001b[39m(a, b):\n\u001b[0;32m---> 10\u001b[0m     \u001b[38;5;28;01mreturn\u001b[39;00m \u001b[43ma\u001b[49m\u001b[43m \u001b[49m\u001b[38;5;241;43m/\u001b[39;49m\u001b[43m \u001b[49m\u001b[43mb\u001b[49m\n",
      "\u001b[0;31mZeroDivisionError\u001b[0m: division by zero"
     ]
    }
   ],
   "source": [
    "#Q2. What happens when an exception is not handled? Explain with an example.\n",
    "\n",
    "'''\n",
    "When an exception is not handled in Python, it will propagate up the call stack until it is caught by an exception handler or \n",
    "reaches the top-level of the program. If the exception is not caught, the program will terminate and display an error message that\n",
    "describes the exception.\n",
    "'''\n",
    "\n",
    "def divide_numbers(a, b):\n",
    "    return a / b\n",
    "\n",
    "result = divide_numbers(10, 0)\n",
    "print(result)\n",
    "\n",
    "'''\n",
    "In this example, the divide_numbers() function attempts to divide the first argument by the second argument. However, when the\n",
    "second argument is zero, a ZeroDivisionError exception is raised.\n",
    "'''"
   ]
  },
  {
   "cell_type": "code",
   "execution_count": 6,
   "id": "b61de217-3906-41d6-9cff-6c84db3f8d67",
   "metadata": {},
   "outputs": [
    {
     "name": "stdin",
     "output_type": "stream",
     "text": [
      "Enter a number:  44\n",
      "Enter another number:  0\n"
     ]
    },
    {
     "name": "stdout",
     "output_type": "stream",
     "text": [
      "Error: Division by zero.\n"
     ]
    }
   ],
   "source": [
    "#Q3. Which Python statements are used to catch and handle exceptions? Explain with an example.\n",
    "\n",
    "'''\n",
    "In Python, the 'try' and 'except' statements are used to catch and handle exceptions. The 'try' block contains the code that might 'raise' \n",
    "an exception, and the 'except' block contains the code that handles the exception if it occurs.\n",
    "'''\n",
    "\n",
    "try:\n",
    "    num1 = int(input(\"Enter a number: \"))\n",
    "    num2 = int(input(\"Enter another number: \"))\n",
    "    result = num1 / num2\n",
    "    print(\"The result is:\", result)\n",
    "except ValueError:\n",
    "    print(\"Invalid input: Please enter a valid number.\")\n",
    "except ZeroDivisionError:\n",
    "    print(\"Error: Division by zero.\")\n"
   ]
  },
  {
   "cell_type": "code",
   "execution_count": 8,
   "id": "420410a9-0a2a-48a3-b784-476ffb220bdf",
   "metadata": {},
   "outputs": [
    {
     "name": "stdin",
     "output_type": "stream",
     "text": [
      "Enter a number:  34\n",
      "Enter another number:  55\n"
     ]
    },
    {
     "name": "stdout",
     "output_type": "stream",
     "text": [
      "The result is: 0.6181818181818182\n"
     ]
    },
    {
     "ename": "NameError",
     "evalue": "name 'file' is not defined",
     "output_type": "error",
     "traceback": [
      "\u001b[0;31m---------------------------------------------------------------------------\u001b[0m",
      "\u001b[0;31mFileNotFoundError\u001b[0m                         Traceback (most recent call last)",
      "Cell \u001b[0;32mIn[8], line 27\u001b[0m\n\u001b[1;32m     26\u001b[0m \u001b[38;5;28;01mtry\u001b[39;00m:\n\u001b[0;32m---> 27\u001b[0m     file \u001b[38;5;241m=\u001b[39m \u001b[38;5;28;43mopen\u001b[39;49m\u001b[43m(\u001b[49m\u001b[38;5;124;43m\"\u001b[39;49m\u001b[38;5;124;43mexample.txt\u001b[39;49m\u001b[38;5;124;43m\"\u001b[39;49m\u001b[43m,\u001b[49m\u001b[43m \u001b[49m\u001b[38;5;124;43m\"\u001b[39;49m\u001b[38;5;124;43mr\u001b[39;49m\u001b[38;5;124;43m\"\u001b[39;49m\u001b[43m)\u001b[49m\n\u001b[1;32m     28\u001b[0m     content \u001b[38;5;241m=\u001b[39m file\u001b[38;5;241m.\u001b[39mread()\n",
      "File \u001b[0;32m/opt/conda/lib/python3.10/site-packages/IPython/core/interactiveshell.py:282\u001b[0m, in \u001b[0;36m_modified_open\u001b[0;34m(file, *args, **kwargs)\u001b[0m\n\u001b[1;32m    276\u001b[0m     \u001b[38;5;28;01mraise\u001b[39;00m \u001b[38;5;167;01mValueError\u001b[39;00m(\n\u001b[1;32m    277\u001b[0m         \u001b[38;5;124mf\u001b[39m\u001b[38;5;124m\"\u001b[39m\u001b[38;5;124mIPython won\u001b[39m\u001b[38;5;124m'\u001b[39m\u001b[38;5;124mt let you open fd=\u001b[39m\u001b[38;5;132;01m{\u001b[39;00mfile\u001b[38;5;132;01m}\u001b[39;00m\u001b[38;5;124m by default \u001b[39m\u001b[38;5;124m\"\u001b[39m\n\u001b[1;32m    278\u001b[0m         \u001b[38;5;124m\"\u001b[39m\u001b[38;5;124mas it is likely to crash IPython. If you know what you are doing, \u001b[39m\u001b[38;5;124m\"\u001b[39m\n\u001b[1;32m    279\u001b[0m         \u001b[38;5;124m\"\u001b[39m\u001b[38;5;124myou can use builtins\u001b[39m\u001b[38;5;124m'\u001b[39m\u001b[38;5;124m open.\u001b[39m\u001b[38;5;124m\"\u001b[39m\n\u001b[1;32m    280\u001b[0m     )\n\u001b[0;32m--> 282\u001b[0m \u001b[38;5;28;01mreturn\u001b[39;00m \u001b[43mio_open\u001b[49m\u001b[43m(\u001b[49m\u001b[43mfile\u001b[49m\u001b[43m,\u001b[49m\u001b[43m \u001b[49m\u001b[38;5;241;43m*\u001b[39;49m\u001b[43margs\u001b[49m\u001b[43m,\u001b[49m\u001b[43m \u001b[49m\u001b[38;5;241;43m*\u001b[39;49m\u001b[38;5;241;43m*\u001b[39;49m\u001b[43mkwargs\u001b[49m\u001b[43m)\u001b[49m\n",
      "\u001b[0;31mFileNotFoundError\u001b[0m: [Errno 2] No such file or directory: 'example.txt'",
      "\nDuring handling of the above exception, another exception occurred:\n",
      "\u001b[0;31mNameError\u001b[0m                                 Traceback (most recent call last)",
      "Cell \u001b[0;32mIn[8], line 31\u001b[0m\n\u001b[1;32m     29\u001b[0m     \u001b[38;5;28mprint\u001b[39m(content)\n\u001b[1;32m     30\u001b[0m \u001b[38;5;28;01mfinally\u001b[39;00m:\n\u001b[0;32m---> 31\u001b[0m     \u001b[43mfile\u001b[49m\u001b[38;5;241m.\u001b[39mclose()\n\u001b[1;32m     34\u001b[0m \u001b[38;5;124;03m'''\u001b[39;00m\n\u001b[1;32m     35\u001b[0m \u001b[38;5;124;03mc. raise:\u001b[39;00m\n\u001b[1;32m     36\u001b[0m \u001b[38;5;124;03mIn Python, the raise statement is used to manually raise an exception. You can use this statement to raise a built-in exception, \u001b[39;00m\n\u001b[1;32m     37\u001b[0m \u001b[38;5;124;03msuch as ValueError or TypeError, or you can define your own custom exceptions.\u001b[39;00m\n\u001b[1;32m     38\u001b[0m \n\u001b[1;32m     39\u001b[0m \u001b[38;5;124;03mHere's an example that demonstrates the use of raise statement:'''\u001b[39;00m\n\u001b[1;32m     41\u001b[0m \u001b[38;5;28;01mdef\u001b[39;00m \u001b[38;5;21mvalidate_age\u001b[39m(age):\n",
      "\u001b[0;31mNameError\u001b[0m: name 'file' is not defined"
     ]
    }
   ],
   "source": [
    "#Q4. Explain with an example: a. try and else b. finally c. raise\n",
    "\n",
    "'''\n",
    "a. 'try' and 'else':\n",
    "In Python, the 'else' block can be used with a 'try-except' block to specify the code that should be executed if no exception is raised.\n",
    "The else block will be executed after the 'try' block, but before any finally block.\n",
    "\n",
    "Here's an example that demonstrates the use of try-else block:'''\n",
    "\n",
    "try:\n",
    "    num1 = int(input(\"Enter a number: \"))\n",
    "    num2 = int(input(\"Enter another number: \"))\n",
    "except ValueError:\n",
    "    print(\"Invalid input: Please enter a valid number.\")\n",
    "else:\n",
    "    result = num1 / num2\n",
    "    print(\"The result is:\", result)\n",
    "\n",
    "'''\n",
    "b. 'finally':\n",
    "In Python, the 'finally' block can be used to specify the code that should be executed regardless of whether an exception is 'raised' or not.\n",
    "This block is often used to perform cleanup operations, such as closing files or releasing resources.\n",
    "\n",
    "Here's an example that demonstrates the use of try-finally block: '''  \n",
    "\n",
    "try:\n",
    "    file = open(\"example.txt\", \"r\")\n",
    "    content = file.read()\n",
    "    print(content)\n",
    "finally:\n",
    "    file.close()\n",
    "\n",
    "    \n",
    "'''\n",
    "c. raise:\n",
    "In Python, the raise statement is used to manually raise an exception. You can use this statement to raise a built-in exception, \n",
    "such as ValueError or TypeError, or you can define your own custom exceptions.\n",
    "\n",
    "Here's an example that demonstrates the use of raise statement:'''\n",
    "\n",
    "def validate_age(age):\n",
    "    if age < 0:\n",
    "        raise ValueError(\"Age cannot be negative.\")\n",
    "    elif age > 120:\n",
    "        raise ValueError(\"Age is too high.\")\n",
    "    else:\n",
    "        print(\"Age is valid.\")\n",
    "\n",
    "validate_age(-10)\n"
   ]
  },
  {
   "cell_type": "code",
   "execution_count": 10,
   "id": "ca7560dc-f033-4cac-b7c2-9f56707f1bfa",
   "metadata": {},
   "outputs": [
    {
     "ename": "InvalidPasswordException",
     "evalue": "Invalid password.",
     "output_type": "error",
     "traceback": [
      "\u001b[0;31m---------------------------------------------------------------------------\u001b[0m",
      "\u001b[0;31mInvalidPasswordException\u001b[0m                  Traceback (most recent call last)",
      "Cell \u001b[0;32mIn[10], line 20\u001b[0m\n\u001b[1;32m     17\u001b[0m     \u001b[38;5;28;01melse\u001b[39;00m:\n\u001b[1;32m     18\u001b[0m         \u001b[38;5;28mprint\u001b[39m(\u001b[38;5;124m\"\u001b[39m\u001b[38;5;124mLogin successful.\u001b[39m\u001b[38;5;124m\"\u001b[39m)\n\u001b[0;32m---> 20\u001b[0m \u001b[43mlogin\u001b[49m\u001b[43m(\u001b[49m\u001b[38;5;124;43m\"\u001b[39;49m\u001b[38;5;124;43madmin\u001b[39;49m\u001b[38;5;124;43m\"\u001b[39;49m\u001b[43m,\u001b[49m\u001b[43m \u001b[49m\u001b[38;5;124;43m\"\u001b[39;49m\u001b[38;5;124;43mpassword\u001b[39;49m\u001b[38;5;124;43m\"\u001b[39;49m\u001b[43m)\u001b[49m\n",
      "Cell \u001b[0;32mIn[10], line 16\u001b[0m, in \u001b[0;36mlogin\u001b[0;34m(username, password)\u001b[0m\n\u001b[1;32m     14\u001b[0m \u001b[38;5;28;01mdef\u001b[39;00m \u001b[38;5;21mlogin\u001b[39m(username, password):\n\u001b[1;32m     15\u001b[0m     \u001b[38;5;28;01mif\u001b[39;00m password \u001b[38;5;241m!=\u001b[39m \u001b[38;5;124m\"\u001b[39m\u001b[38;5;124msecret\u001b[39m\u001b[38;5;124m\"\u001b[39m:\n\u001b[0;32m---> 16\u001b[0m         \u001b[38;5;28;01mraise\u001b[39;00m InvalidPasswordException(\u001b[38;5;124m\"\u001b[39m\u001b[38;5;124mInvalid password.\u001b[39m\u001b[38;5;124m\"\u001b[39m)\n\u001b[1;32m     17\u001b[0m     \u001b[38;5;28;01melse\u001b[39;00m:\n\u001b[1;32m     18\u001b[0m         \u001b[38;5;28mprint\u001b[39m(\u001b[38;5;124m\"\u001b[39m\u001b[38;5;124mLogin successful.\u001b[39m\u001b[38;5;124m\"\u001b[39m)\n",
      "\u001b[0;31mInvalidPasswordException\u001b[0m: Invalid password."
     ]
    }
   ],
   "source": [
    "#Q5. What are Custom Exceptions in python? Why do we need Custom Exceptions? Explain with an example.\n",
    "\n",
    "'''\n",
    "In Python, you can define your own custom exceptions by creating a new class that inherits from the built-in Exception class or one of its subclasses. Custom exceptions are used to represent errors or exceptional situations \n",
    "that are specific to your application or domain.\n",
    "\n",
    "We need custom exceptions because they allow us to create more meaningful error messages and provide additional context about the \n",
    "source of the error. This makes it easier for other developers to understand and debug the code.\n",
    "'''\n",
    "\n",
    "class InvalidPasswordException(Exception):\n",
    "    pass\n",
    "\n",
    "def login(username, password):\n",
    "    if password != \"secret\":\n",
    "        raise InvalidPasswordException(\"Invalid password.\")\n",
    "    else:\n",
    "        print(\"Login successful.\")\n",
    "\n",
    "login(\"admin\", \"password\")\n"
   ]
  },
  {
   "cell_type": "code",
   "execution_count": 11,
   "id": "001560b9-05a9-4f65-a5ed-a10d24751053",
   "metadata": {},
   "outputs": [
    {
     "name": "stdout",
     "output_type": "stream",
     "text": [
      "An error occurred: Cannot calculate square root of a negative number.\n"
     ]
    }
   ],
   "source": [
    "#Q6. Create a custom exception class. Use this class to handle an exception.\n",
    "\n",
    "class NegativeNumberError(Exception):\n",
    "    pass\n",
    "\n",
    "def calculate_square_root(num):\n",
    "    if num < 0:\n",
    "        raise NegativeNumberError(\"Cannot calculate square root of a negative number.\")\n",
    "    else:\n",
    "        return num ** 0.5\n",
    "\n",
    "try:\n",
    "    result = calculate_square_root(-4)\n",
    "    print(result)\n",
    "except NegativeNumberError as e:\n",
    "    print(\"An error occurred:\", e)\n"
   ]
  },
  {
   "cell_type": "code",
   "execution_count": null,
   "id": "512e441c-f780-4997-86ef-3dfb2257d0cb",
   "metadata": {},
   "outputs": [],
   "source": []
  }
 ],
 "metadata": {
  "kernelspec": {
   "display_name": "Python 3 (ipykernel)",
   "language": "python",
   "name": "python3"
  },
  "language_info": {
   "codemirror_mode": {
    "name": "ipython",
    "version": 3
   },
   "file_extension": ".py",
   "mimetype": "text/x-python",
   "name": "python",
   "nbconvert_exporter": "python",
   "pygments_lexer": "ipython3",
   "version": "3.10.8"
  }
 },
 "nbformat": 4,
 "nbformat_minor": 5
}
