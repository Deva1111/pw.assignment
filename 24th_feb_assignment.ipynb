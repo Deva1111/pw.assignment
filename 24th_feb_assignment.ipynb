{
 "cells": [
  {
   "cell_type": "code",
   "execution_count": 7,
   "id": "62066d89-c03d-444b-8363-e4611d3cb56a",
   "metadata": {},
   "outputs": [
    {
     "name": "stdout",
     "output_type": "stream",
     "text": [
      "     Name   Age\n",
      "0    John  25.0\n",
      "1   Emily  31.0\n",
      "2  Daniel  35.0\n",
      "3  Sophia  31.0\n",
      "4    Alex  33.0\n",
      "     Name  Age\n",
      "0    John   25\n",
      "1   Emily   30\n",
      "2  Daniel   35\n",
      "         Age\n",
      "Gender      \n",
      "Female  29.0\n",
      "Male    31.0\n",
      "     Name  Age\n",
      "2  Daniel   35\n",
      "4    Alex   33\n",
      "1   Emily   30\n",
      "3  Sophia   28\n",
      "0    John   25\n"
     ]
    },
    {
     "name": "stderr",
     "output_type": "stream",
     "text": [
      "/tmp/ipykernel_1049/2311183468.py:47: FutureWarning: The default value of numeric_only in DataFrameGroupBy.mean is deprecated. In a future version, numeric_only will default to False. Either specify numeric_only or select only columns which should be valid for the function.\n",
      "  grouped_df = df.groupby('Gender').mean()\n"
     ]
    }
   ],
   "source": [
    "#Q1. List any five functions of the pandas library with execution.\n",
    "\n",
    "\n",
    "'''\n",
    "1. `fillna()`: This function is used to fill missing values in a DataFrame or Series with a specified value or using a filling\n",
    "    strategy like forward fill or backward fill.\n",
    "'''\n",
    "import pandas as pd\n",
    "\n",
    "# Create a DataFrame with missing values\n",
    "data = {'Name': ['John', 'Emily', 'Daniel', 'Sophia', 'Alex'],\n",
    "        'Age': [25, None, 35, None, 33]}\n",
    "df = pd.DataFrame(data)\n",
    "\n",
    "# Fill the missing values in 'Age' column with the mean age\n",
    "df['Age'].fillna(df['Age'].mean(), inplace=True)\n",
    "print(df)\n",
    "\n",
    "\n",
    "\n",
    "\n",
    "'''\n",
    "2. `head()`: It is used to display the first few rows of a DataFrame. By default, it shows the first five rows.\n",
    "'''\n",
    "import pandas as pd\n",
    "\n",
    "# Create a DataFrame\n",
    "data = {'Name': ['John', 'Emily', 'Daniel', 'Sophia', 'Alex'],\n",
    "        'Age': [25, 30, 35, 28, 33]}\n",
    "df = pd.DataFrame(data)\n",
    "\n",
    "# Display the first three rows\n",
    "print(df.head(3))\n",
    "\n",
    "'''\n",
    "3. `groupby()`: This function is used to group data based on one or more columns, allowing for aggregations and transformations on the grouped data.\n",
    "'''\n",
    "import pandas as pd\n",
    "\n",
    "# Create a DataFrame\n",
    "data = {'Name': ['John', 'Emily', 'Daniel', 'Sophia', 'Alex'],\n",
    "        'Age': [25, 30, 35, 28, 33],\n",
    "        'Gender': ['Male', 'Female', 'Male', 'Female', 'Male']}\n",
    "df = pd.DataFrame(data)\n",
    "\n",
    "# Grouping the data by 'Gender' column and calculating the mean age\n",
    "grouped_df = df.groupby('Gender').mean()\n",
    "print(grouped_df)\n",
    "\n",
    "'''\n",
    "4. `sort_values()`: It is used to sort a DataFrame by one or more columns.\n",
    "'''\n",
    "import pandas as pd\n",
    "\n",
    "# Create a DataFrame\n",
    "data = {'Name': ['John', 'Emily', 'Daniel', 'Sophia', 'Alex'],\n",
    "        'Age': [25, 30, 35, 28, 33]}\n",
    "df = pd.DataFrame(data)\n",
    "\n",
    "# Sort the DataFrame by 'Age' column in descending order\n",
    "sorted_df = df.sort_values('Age', ascending=False)\n",
    "print(sorted_df)\n",
    "\n",
    "'''\n",
    "5. `to_csv()`: This function is used to save a DataFrame to a CSV file.\n",
    "'''\n",
    "import pandas as pd\n",
    "\n",
    "# Create a DataFrame\n",
    "data = {'Name': ['John', 'Emily', 'Daniel', 'Sophia', 'Alex'],\n",
    "        'Age': [25, 30, 35, 28, 33]}\n",
    "df = pd.DataFrame(data)\n",
    "\n",
    "# Save the DataFrame to a CSV file\n",
    "df.to_csv('output.csv', index=False)\n",
    "\n",
    "'''\n",
    "In these examples, we used various functions like `fillna()`, `head()`, `groupby()`, `sort_values()`, and `to_csv()` to read data\n",
    "from a CSV file, display rows of a DataFrame, group data, sort a DataFrame, and save a DataFrame to a CSV file, respectively.\n",
    "'''\n",
    "pass\n"
   ]
  },
  {
   "cell_type": "code",
   "execution_count": 15,
   "id": "3a7b2fe4-981a-4a38-885c-c05b2fa59408",
   "metadata": {},
   "outputs": [
    {
     "name": "stdout",
     "output_type": "stream",
     "text": [
      "    A    B    C\n",
      "1  10   60  110\n",
      "3  20   70  120\n",
      "5  30   80  130\n",
      "7  40   90  140\n",
      "9  50  100  150\n"
     ]
    }
   ],
   "source": [
    "#Q2. Given a Pandas DataFrame df with columns 'A', 'B', and 'C', write a Python function to re-index the\n",
    "#DataFrame with a new index that starts from 1 and increments by 2 for each row.\n",
    "\n",
    "import pandas as pd\n",
    "\n",
    "def reindex_dataframe(df):\n",
    "    new_index = pd.RangeIndex(start=1, stop=len(df)*2, step=2)\n",
    "    df_reindexed = df.set_index(new_index)\n",
    "    return df_reindexed\n",
    "\n",
    "df = pd.DataFrame({'A': [10, 20, 30, 40, 50], 'B': [60, 70, 80, 90, 100], 'C': [110, 120, 130, 140, 150]})\n",
    "\n",
    "df_reindexed = reindex_dataframe(df)\n",
    "print(df_reindexed)\n",
    "\n",
    "\n"
   ]
  },
  {
   "cell_type": "code",
   "execution_count": 12,
   "id": "d24dc235-caa3-477c-8a14-868ac2e48a29",
   "metadata": {},
   "outputs": [
    {
     "name": "stdout",
     "output_type": "stream",
     "text": [
      "Sum of the first three values: 60\n"
     ]
    }
   ],
   "source": [
    "#Q3. You have a Pandas DataFrame df with a column named 'Values'. Write a Python function that iterates over the DataFrame and \n",
    "#calculates the sum of the first three values in the 'Values' column. The function should print the sum to the console.\n",
    "\n",
    "import pandas as pd\n",
    "\n",
    "values = pd.DataFrame({'Values': [10, 20, 30, 40, 50]})\n",
    "\n",
    "def calculate_sum(df):\n",
    "    sum_values = df['Values'].head(3).sum()\n",
    "    print(\"Sum of the first three values:\", sum_values)\n",
    "\n",
    "\n",
    "calculate_sum(values)\n",
    "\n"
   ]
  },
  {
   "cell_type": "code",
   "execution_count": 14,
   "id": "b1ff2bb4-a1d8-45cd-971b-49586e8c4bf3",
   "metadata": {},
   "outputs": [
    {
     "name": "stdout",
     "output_type": "stream",
     "text": [
      "                  Text  Word_Count\n",
      "0  Hello, how are you?           4\n",
      "1     I am doing well.           4\n",
      "2       Python is fun!           3\n"
     ]
    }
   ],
   "source": [
    "#Q4. Given a Pandas DataFrame df with a column 'Text', write a Python function to create a new column 'Word_Count' that contains the number of words in each row of the 'Text' column.\n",
    "\n",
    "import pandas as pd\n",
    "\n",
    "def add_word_count(df):\n",
    "    df['Word_Count'] = df['Text'].apply(lambda x: len(str(x).split()))\n",
    "    return df\n",
    "\n",
    "\n",
    "df = pd.DataFrame({'Text': ['Hello, how are you?', 'I am doing well.', 'Python is fun!']})\n",
    "\n",
    "\n",
    "df_with_word_count = add_word_count(df)\n",
    "print(df_with_word_count)\n"
   ]
  },
  {
   "cell_type": "code",
   "execution_count": 16,
   "id": "cb56e3cb-7a53-45d6-8002-411714cc62c1",
   "metadata": {},
   "outputs": [
    {
     "name": "stdout",
     "output_type": "stream",
     "text": [
      "DataFrame size: 9\n",
      "DataFrame shape: (3, 3)\n"
     ]
    }
   ],
   "source": [
    "#Q5. How are DataFrame.size() and DataFrame.shape() different?\n",
    "\n",
    "'''\n",
    "The `DataFrame.size` and `DataFrame.shape` are both attributes of a Pandas DataFrame, but they provide different information about \n",
    "the DataFrame.\n",
    "\n",
    "1. `DataFrame.size` returns the total number of elements in the DataFrame, which is calculated by multiplying the number of rows \n",
    "   (`DataFrame.shape[0]`) by the number of columns (`DataFrame.shape[1]`). It represents the total number of cells in the DataFrame,\n",
    "    including both filled and empty values.\n",
    "\n",
    "2. `DataFrame.shape` returns a tuple containing the number of rows and columns in the DataFrame. The shape attribute is in the form\n",
    "   `(rows, columns)`, where `rows` represents the number of rows and `columns` represents the number of columns in the DataFrame.\n",
    "\n",
    "Here's an example to illustrate the difference:\n",
    "'''\n",
    "\n",
    "import pandas as pd\n",
    "\n",
    "data = {'A': [1, 2, 3],\n",
    "        'B': [4, 5, 6],\n",
    "        'C': [7, 8, 9]}\n",
    "\n",
    "df = pd.DataFrame(data)\n",
    "\n",
    "print(\"DataFrame size:\", df.size)        \n",
    "print(\"DataFrame shape:\", df.shape)     \n",
    "\n",
    "\n"
   ]
  },
  {
   "cell_type": "code",
   "execution_count": 17,
   "id": "e17a2379-6c49-42f5-a0f5-96cc6ab6e3b2",
   "metadata": {},
   "outputs": [],
   "source": [
    "#Q6. Which function of pandas do we use to read an excel file?\n",
    "\n",
    "'''\n",
    "To read an Excel file in Pandas, you can use the `pandas.read_excel()` function. It allows you to read data from an Excel file and\n",
    "create a DataFrame from it. \n",
    " example:\n",
    "\n",
    "\n",
    "import pandas as pd\n",
    "\n",
    "# Read Excel file\n",
    "df = pd.read_excel('path/to/file.xlsx')\n",
    "\n",
    "# Print the DataFrame\n",
    "print(df)\n",
    "\n",
    "\n",
    "In this example, the `read_excel()` function is used to read the Excel file located at `'path/to/file.xlsx'`. The function reads the\n",
    "data from the file and creates a DataFrame `df` from it. You can then perform various operations and analysis on the DataFrame as \n",
    "needed.\n",
    "\n",
    "Make sure to provide the correct path to your Excel file in the `read_excel()` function call. If the Excel file is in the same directory\n",
    "as your Python script or notebook, you can provide just the file name with its extension. If it is in a different directory, you need to\n",
    "provide the full path to the file.\n",
    "'''\n",
    "pass"
   ]
  },
  {
   "cell_type": "code",
   "execution_count": 18,
   "id": "3f79b47d-fa44-4bfe-950f-ce7ac9eb2aba",
   "metadata": {},
   "outputs": [
    {
     "name": "stdout",
     "output_type": "stream",
     "text": [
      "                     Email     Username\n",
      "0     john.doe@example.com     john.doe\n",
      "1   jane.smith@example.com   jane.smith\n",
      "2  bob.johnson@example.com  bob.johnson\n"
     ]
    }
   ],
   "source": [
    "#Q7. You have a Pandas DataFrame df that contains a column named 'Email' that contains email addresses in the format 'username@domain.com'.\n",
    "#Write a Python function that creates a new column 'Username' in df that contains only the username part of each email address.\n",
    "#The username is the part of the email address that appears before the '@' symbol. For example, if the email address is 'john.doe@example.com',\n",
    "#the 'Username' column should contain 'john.doe'. Your function should extract the username from each email address and store it in the new \n",
    "#'Username'column.\n",
    "\n",
    "import pandas as pd\n",
    "\n",
    "def extract_username(df):\n",
    "    df['Username'] = df['Email'].str.split('@').str[0]\n",
    "    return df\n",
    "\n",
    "\n",
    "df = pd.DataFrame({'Email': ['john.doe@example.com', 'jane.smith@example.com', 'bob.johnson@example.com']})\n",
    "\n",
    "\n",
    "df_with_username = extract_username(df)\n",
    "print(df_with_username)\n"
   ]
  },
  {
   "cell_type": "code",
   "execution_count": 19,
   "id": "f5a9260e-4e58-4882-a212-102005718436",
   "metadata": {},
   "outputs": [
    {
     "name": "stdout",
     "output_type": "stream",
     "text": [
      "   A  B  C\n",
      "1  8  2  7\n",
      "2  6  9  4\n",
      "4  9  1  2\n"
     ]
    }
   ],
   "source": [
    "''''\n",
    "Q8. You have a Pandas DataFrame df with columns 'A', 'B', and 'C'. Write a Python function that selects\n",
    "all rows where the value in column 'A' is greater than 5 and the value in column 'B' is less than 10. The\n",
    "function should return a new DataFrame that contains only the selected rows.\n",
    "For example, if df contains the following values:\n",
    "A B C\n",
    "0 3 5 1\n",
    "1 8 2 7\n",
    "2 6 9 4\n",
    "3 2 3 5\n",
    "4 9 1 2\n",
    "'''\n",
    "\n",
    "import pandas as pd\n",
    "\n",
    "def select_rows(df):\n",
    "    selected_df = df[(df['A'] > 5) & (df['B'] < 10)]\n",
    "    return selected_df\n",
    "\n",
    "\n",
    "df = pd.DataFrame({'A': [3, 8, 6, 2, 9],\n",
    "                   'B': [5, 2, 9, 3, 1],\n",
    "                   'C': [1, 7, 4, 5, 2]})\n",
    "\n",
    "\n",
    "selected_rows = select_rows(df)\n",
    "print(selected_rows)\n"
   ]
  },
  {
   "cell_type": "code",
   "execution_count": 20,
   "id": "a83b2fa7-3a1d-48fb-bce3-43489598282d",
   "metadata": {},
   "outputs": [
    {
     "name": "stdout",
     "output_type": "stream",
     "text": [
      "Mean: 30.0\n",
      "Median: 30.0\n",
      "Standard Deviation: 15.811388300841896\n"
     ]
    }
   ],
   "source": [
    "#Q9. Given a Pandas DataFrame df with a column 'Values', write a Python function to calculate the mean, median, and standard deviation of the values in the 'Values' column.\n",
    "\n",
    "import pandas as pd\n",
    "\n",
    "def calculate_statistics(df):\n",
    "    mean = df['Values'].mean()\n",
    "    median = df['Values'].median()\n",
    "    std_dev = df['Values'].std()\n",
    "    return mean, median, std_dev\n",
    "\n",
    "df = pd.DataFrame({'Values': [10, 20, 30, 40, 50]})\n",
    "\n",
    "mean_value, median_value, std_dev_value = calculate_statistics(df)\n",
    "print(\"Mean:\", mean_value)\n",
    "print(\"Median:\", median_value)\n",
    "print(\"Standard Deviation:\", std_dev_value)\n"
   ]
  },
  {
   "cell_type": "code",
   "execution_count": 21,
   "id": "7e632d63-f7ed-49ba-8a7d-8cb543a38288",
   "metadata": {},
   "outputs": [
    {
     "name": "stdout",
     "output_type": "stream",
     "text": [
      "        Date  Sales  MovingAverage\n",
      "0 2023-01-01     10           10.0\n",
      "1 2023-01-02     20           15.0\n",
      "2 2023-01-03     30           20.0\n",
      "3 2023-01-04     40           25.0\n",
      "4 2023-01-05     50           30.0\n",
      "5 2023-01-06     60           35.0\n",
      "6 2023-01-07     70           40.0\n",
      "7 2023-01-08     80           50.0\n",
      "8 2023-01-09     90           60.0\n",
      "9 2023-01-10    100           70.0\n"
     ]
    }
   ],
   "source": [
    "#Q10. Given a Pandas DataFrame df with a column 'Sales' and a column 'Date', write a Python function to create a new column \n",
    "#'MovingAverage' that contains the moving average of the sales for the past 7 days for each row in the DataFrame. The moving average \n",
    "#should be calculated using a window of size 7 and should include the current day.\n",
    "\n",
    "import pandas as pd\n",
    "\n",
    "def calculate_moving_average(df):\n",
    "    df['MovingAverage'] = df['Sales'].rolling(window=7, min_periods=1).mean()\n",
    "    return df\n",
    "\n",
    "\n",
    "df = pd.DataFrame({'Date': pd.date_range(start='2023-01-01', periods=10),\n",
    "                   'Sales': [10, 20, 30, 40, 50, 60, 70, 80, 90, 100]})\n",
    "\n",
    "\n",
    "df_with_ma = calculate_moving_average(df)\n",
    "print(df_with_ma)\n"
   ]
  },
  {
   "cell_type": "code",
   "execution_count": 22,
   "id": "658e52d5-952d-4535-98da-2c68a83301b4",
   "metadata": {},
   "outputs": [
    {
     "name": "stdout",
     "output_type": "stream",
     "text": [
      "        Date    Weekday\n",
      "0 2023-01-01     Sunday\n",
      "1 2023-01-02     Monday\n",
      "2 2023-01-03    Tuesday\n",
      "3 2023-01-04  Wednesday\n",
      "4 2023-01-05   Thursday\n"
     ]
    }
   ],
   "source": [
    "'''\n",
    "Q11. You have a Pandas DataFrame df with a column 'Date'. Write a Python function that creates a new\n",
    "column 'Weekday' in the DataFrame. The 'Weekday' column should contain the weekday name (e.g.\n",
    "Monday, Tuesday) corresponding to each date in the 'Date' column.\n",
    "For example, if df contains the following values:\n",
    "Date\n",
    "0 2023-01-01\n",
    "1 2023-01-02\n",
    "2 2023-01-03\n",
    "3 2023-01-04\n",
    "4 2023-01-05\n",
    "'''\n",
    "\n",
    "import pandas as pd\n",
    "\n",
    "def add_weekday_column(df):\n",
    "    df['Weekday'] = df['Date'].dt.day_name()\n",
    "    return df\n",
    "\n",
    "\n",
    "df = pd.DataFrame({'Date': pd.to_datetime(['2023-01-01', '2023-01-02', '2023-01-03', '2023-01-04', '2023-01-05'])})\n",
    "\n",
    "\n",
    "df_with_weekday = add_weekday_column(df)\n",
    "print(df_with_weekday)\n"
   ]
  },
  {
   "cell_type": "code",
   "execution_count": 23,
   "id": "f9acb1bc-dee4-4767-862d-c6ee44e31f74",
   "metadata": {},
   "outputs": [
    {
     "name": "stdout",
     "output_type": "stream",
     "text": [
      "        Date\n",
      "0 2023-01-01\n",
      "1 2023-01-15\n",
      "2 2023-01-31\n"
     ]
    }
   ],
   "source": [
    "#Q12. Given a Pandas DataFrame df with a column 'Date' that contains timestamps, write a Python function to \n",
    "#select all rows where the date is between '2023-01-01' and '2023-01-31'.\n",
    "\n",
    "import pandas as pd\n",
    "\n",
    "def select_rows_between_dates(df):\n",
    "    start_date = pd.to_datetime('2023-01-01')\n",
    "    end_date = pd.to_datetime('2023-01-31')\n",
    "    selected_df = df[df['Date'].between(start_date, end_date)]\n",
    "    return selected_df\n",
    "\n",
    "\n",
    "df = pd.DataFrame({'Date': pd.to_datetime(['2023-01-01', '2023-01-15', '2023-01-31', '2023-02-10'])})\n",
    "\n",
    "\n",
    "selected_rows = select_rows_between_dates(df)\n",
    "print(selected_rows)\n"
   ]
  },
  {
   "cell_type": "code",
   "execution_count": 24,
   "id": "02a6e132-bd4f-4e78-8e71-cc54e1cdcdab",
   "metadata": {},
   "outputs": [],
   "source": [
    "#Q13. To use the basic functions of pandas, what is the first and foremost necessary library that needs to be imported?\n",
    "\n",
    "'''\n",
    "The first and foremost necessary library that needs to be imported to use the basic functions of pandas is the `pandas` library \n",
    "itself. Pandas is a powerful data manipulation and analysis library in Python that provides data structures and functions for \n",
    "handling and analyzing structured data, such as DataFrames and Series.\n",
    "\n",
    "To import the pandas library, you can use the following import statement:\n",
    "\n",
    "import pandas as pd\n",
    "\n",
    "By convention, the `pandas` library is commonly imported with the alias `pd`. This allows you to access the pandas functions and \n",
    "objects using the `pd` prefix.\n",
    "\n",
    "Once you have imported the pandas library, you can start using its functions and objects to manipulate and analyze data using \n",
    "DataFrames and Series.\n",
    "'''\n",
    "pass"
   ]
  },
  {
   "cell_type": "code",
   "execution_count": null,
   "id": "f16c9f66-965e-474d-a204-8f364e92e80b",
   "metadata": {},
   "outputs": [],
   "source": []
  }
 ],
 "metadata": {
  "kernelspec": {
   "display_name": "Python 3 (ipykernel)",
   "language": "python",
   "name": "python3"
  },
  "language_info": {
   "codemirror_mode": {
    "name": "ipython",
    "version": 3
   },
   "file_extension": ".py",
   "mimetype": "text/x-python",
   "name": "python",
   "nbconvert_exporter": "python",
   "pygments_lexer": "ipython3",
   "version": "3.10.8"
  }
 },
 "nbformat": 4,
 "nbformat_minor": 5
}
