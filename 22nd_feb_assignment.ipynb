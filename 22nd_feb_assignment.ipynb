{
 "cells": [
  {
   "cell_type": "code",
   "execution_count": 1,
   "id": "e5ced149-3cf9-4ebf-81e6-4cb9f3a3a5e0",
   "metadata": {},
   "outputs": [
    {
     "name": "stdout",
     "output_type": "stream",
     "text": [
      "0     4\n",
      "1     8\n",
      "2    15\n",
      "3    16\n",
      "4    23\n",
      "5    42\n",
      "dtype: int64\n"
     ]
    }
   ],
   "source": [
    "#Q1. Create a Pandas Series that contains the following data: 4, 8, 15, 16, 23, and 42. Then, print the series.\n",
    "\n",
    "\n",
    "import pandas as pd\n",
    "\n",
    "data = [4, 8, 15, 16, 23, 42]\n",
    "series = pd.Series(data)\n",
    "print(series)\n"
   ]
  },
  {
   "cell_type": "code",
   "execution_count": 2,
   "id": "a91eac26-f1a8-4f24-aa1f-0a01b0f46708",
   "metadata": {},
   "outputs": [
    {
     "name": "stdout",
     "output_type": "stream",
     "text": [
      "0     10\n",
      "1     20\n",
      "2     30\n",
      "3     40\n",
      "4     50\n",
      "5     60\n",
      "6     70\n",
      "7     80\n",
      "8     90\n",
      "9    100\n",
      "dtype: int64\n"
     ]
    }
   ],
   "source": [
    "#Q2. Create a variable of list type containing 10 elements in it, and apply pandas.Series function on the variable print it.\n",
    "\n",
    "import pandas as pd\n",
    "\n",
    "my_list = [10, 20, 30, 40, 50, 60, 70, 80, 90, 100]\n",
    "series = pd.Series(my_list)\n",
    "print(series)\n"
   ]
  },
  {
   "cell_type": "code",
   "execution_count": 4,
   "id": "1c44cf01-57ce-4511-9cdb-d2946698341c",
   "metadata": {},
   "outputs": [
    {
     "name": "stdout",
     "output_type": "stream",
     "text": [
      "     Name Age  Gender\n",
      "0   Alice  20  Female\n",
      "1     Bob  25    Male\n",
      "2  Claire  30  Female\n"
     ]
    }
   ],
   "source": [
    "#Q3. Create a Pandas DataFrame that contains the following data:\n",
    "\n",
    "import pandas as pd\n",
    "\n",
    "df = pd.DataFrame({\"Name\": ['Alice','Bob','Claire'], \n",
    "                    \"Age\": ['20', '25', '30'] ,\n",
    "                    \"Gender\": ['Female', 'Male' , 'Female']})\n",
    "print(df)"
   ]
  },
  {
   "cell_type": "code",
   "execution_count": 9,
   "id": "7bb0739a-e4df-4250-9f8f-8c206c3add5d",
   "metadata": {},
   "outputs": [
    {
     "name": "stdout",
     "output_type": "stream",
     "text": [
      "     Name  Age  Gender\n",
      "0    John   25    Male\n",
      "1   Emily   30  Female\n",
      "2  Daniel   35    Male\n",
      "0      John\n",
      "1     Emily\n",
      "2    Daniel\n",
      "Name: Name, dtype: object\n"
     ]
    }
   ],
   "source": [
    "#Q4. What is ‘DataFrame’ in pandas and how is it different from pandas.series? Explain with an example.\n",
    "\n",
    "'''\n",
    "In Pandas, a DataFrame is a two-dimensional labeled data structure that is widely used for data manipulation and analysis. It can be thought of as a table-like data \n",
    "structure with rows and columns. A DataFrame provides a powerful and flexible way to store and organize structured data, making it easier to perform operations on the\n",
    "data.\n",
    "\n",
    "Each column in a DataFrame is represented by a Pandas Series. A Pandas Series, on the other hand, is a one-dimensional labeled array-like object that contains data of \n",
    "a single data type. It is similar to a column in a spreadsheet or a single column of a DataFrame. A DataFrame can be seen as a collection of Pandas Series that share \n",
    "a common index.\n",
    "'''\n",
    "\n",
    "import pandas as pd\n",
    "\n",
    "# Creating a DataFrame\n",
    "data = {\n",
    "    \"Name\": [\"John\", \"Emily\", \"Daniel\"],\n",
    "    \"Age\": [25, 30, 35],\n",
    "    \"Gender\": [\"Male\", \"Female\", \"Male\"]\n",
    "}\n",
    "\n",
    "df = pd.DataFrame(data)\n",
    "print(df)\n",
    "\n",
    "\n",
    "'''\n",
    "In this example, we create a DataFrame called `df` using a dictionary `data`. The dictionary contains three key-value pairs, where the keys represent column names \n",
    "(\"Name\", \"Age\", \"Gender\") and the values represent the data for each column.\n",
    "\n",
    "The resulting DataFrame has three columns: \"Name\", \"Age\", and \"Gender\", each represented by a Pandas Series. The index labels 0, 1, and 2 are automatically assigned\n",
    "to the rows.\n",
    "\n",
    "To access a single column as a Pandas Series, you can use the column name as an index for the DataFrame. For example:\n",
    "'''\n",
    "\n",
    "name_series = df[\"Name\"]\n",
    "print(name_series)\n",
    "\n",
    "\n",
    "'''\n",
    "In this case, we extract the \"Name\" column from the DataFrame `df` and store it in a variable called `name_series`. The resulting `name_series` is a Pandas Series \n",
    "object containing the values of the \"Name\" column.\n",
    "'''\n",
    "pass"
   ]
  },
  {
   "cell_type": "code",
   "execution_count": 11,
   "id": "9b69a25f-5be9-404b-b35e-36442f413ae5",
   "metadata": {},
   "outputs": [
    {
     "name": "stdout",
     "output_type": "stream",
     "text": [
      "John      2\n",
      "Emily     2\n",
      "Daniel    1\n",
      "Name: Name, dtype: int64\n"
     ]
    }
   ],
   "source": [
    "#Q5. What are some common functions you can use to manipulate data in a Pandas DataFrame? Can you give an example of when you might use one of these functions?\n",
    "\n",
    "'''\n",
    "Pandas provides a wide range of functions and methods to manipulate data in a DataFrame. Here are some commonly used functions:\n",
    "\n",
    "1. `head()` and `tail()`: These functions allow you to view the first or last n rows of a DataFrame, respectively. They are useful for quickly inspecting the data.\n",
    "\n",
    "2. `shape`: It returns the dimensions (number of rows and columns) of the DataFrame.\n",
    "\n",
    "3. `info()`: It provides a concise summary of the DataFrame, including the data types and memory usage. It is helpful for understanding the structure of the DataFrame.\n",
    "\n",
    "4. `describe()`: This function generates descriptive statistics of the numeric columns in the DataFrame, such as count, mean, standard deviation, minimum, maximum, and \n",
    "                 quartiles.\n",
    "\n",
    "5. `unique()`: It returns an array of unique values in a column of the DataFrame.\n",
    "\n",
    "6. `value_counts()`: This function counts the occurrence of each unique value in a column of the DataFrame.\n",
    "\n",
    "7. `sort_values()`: It allows sorting the DataFrame by one or more columns. This function is useful for sorting the data based on specific criteria.\n",
    "\n",
    "8. `groupby()`: This function is used to group the data based on one or more columns. It enables you to perform aggregations or transformations on the grouped data.\n",
    "\n",
    "9. `drop()`: It allows removing rows or columns from the DataFrame.\n",
    "\n",
    "10. `fillna()`: This function is used to fill missing values in the DataFrame with specified values or using various filling strategies like mean, median, etc.\n",
    "'''\n",
    "\n",
    "#example:\n",
    "\n",
    "\n",
    "import pandas as pd\n",
    "\n",
    "# Creating a DataFrame\n",
    "data = {\n",
    "    \"Name\": [\"John\", \"Emily\", \"Daniel\", \"John\", \"Emily\"],\n",
    "    \"Age\": [25, 30, 35, 28, 33],\n",
    "    \"Gender\": [\"Male\", \"Female\", \"Male\", \"Male\", \"Female\"]\n",
    "}\n",
    "\n",
    "df = pd.DataFrame(data)\n",
    "\n",
    "name_counts = df['Name'].value_counts()\n",
    "print(name_counts)\n",
    "\n"
   ]
  },
  {
   "cell_type": "code",
   "execution_count": 12,
   "id": "0bc5813f-44fd-47a1-8932-2d60b8a82572",
   "metadata": {},
   "outputs": [],
   "source": [
    "#Q6. Which of the following is mutable in nature Series, DataFrame, Panel?\n",
    "\n",
    "'''\n",
    "Among the options provided, both Series and DataFrame in Pandas are mutable in nature, while Panel is immutable.\n",
    "\n",
    "1. Series: A Pandas Series is mutable, meaning you can modify its values or add/remove elements after it is created. You can change individual values, update multiple\n",
    "   values, or append new values to an existing Series.\n",
    "\n",
    "2. DataFrame: Similarly, a Pandas DataFrame is also mutable. You can modify the values of existing cells, add or remove columns, and perform various operations to\n",
    "   manipulate the data within the DataFrame.\n",
    "\n",
    "3. Panel: On the other hand, a Panel in Pandas is immutable. Panels were used in earlier versions of Pandas to handle three-dimensional data, but they have been \n",
    "   deprecated in favor of using multi-index DataFrames. While Panels support some operations, they do not have the same level of flexibility for modifications as \n",
    "   Series and DataFrames.\n",
    "\n",
    "It's worth noting that while Series and DataFrames are mutable, some operations may return new objects rather than modifying the existing ones. For example, when you\n",
    "perform filtering or data manipulation operations on a DataFrame, a new DataFrame may be returned with the desired changes rather than modifying the original DataFrame\n",
    "in place.\n",
    "'''\n",
    "pass"
   ]
  },
  {
   "cell_type": "code",
   "execution_count": 13,
   "id": "7eb51db8-ae46-4984-9c85-f692065c9f7f",
   "metadata": {},
   "outputs": [
    {
     "name": "stdout",
     "output_type": "stream",
     "text": [
      "     Name  Age  Gender\n",
      "0   Alice   25  Female\n",
      "1     Bob   30    Male\n",
      "2  Claire   35  Female\n"
     ]
    }
   ],
   "source": [
    "#Q7. Create a DataFrame using multiple Series. Explain with an example.\n",
    "\n",
    "import pandas as pd\n",
    "\n",
    "# Creating Series\n",
    "names = pd.Series([\"Alice\", \"Bob\", \"Claire\"])\n",
    "ages = pd.Series([25, 30, 35])\n",
    "genders = pd.Series([\"Female\", \"Male\", \"Female\"])\n",
    "\n",
    "# Creating DataFrame using Series\n",
    "df = pd.DataFrame({\n",
    "    \"Name\": names,\n",
    "    \"Age\": ages,\n",
    "    \"Gender\": genders\n",
    "})\n",
    "\n",
    "print(df)\n",
    "\n",
    "\n",
    "'''\n",
    "\n",
    "In this example, we create three separate Series: `names`, `ages`, and `genders`. Each Series represents a column of the DataFrame. The length of each Series is the \n",
    "same, and the values correspond to each other.\n",
    "\n",
    "We then create a DataFrame `df` using the `pd.DataFrame()` constructor. Inside the constructor, we provide a dictionary where the keys represent the column names, and\n",
    "the values represent the corresponding Series. The DataFrame is constructed by aligning the values from each Series based on their index labels.\n",
    "\n",
    "The resulting DataFrame has three columns: \"Name\", \"Age\", and \"Gender\", with each column populated by the values from the respective Series.\n",
    "\n",
    "Using this approach, you can create a DataFrame by combining multiple Series that represent different columns of the DataFrame, allowing you to organize and analyze\n",
    "structured data efficiently.\n",
    "\n",
    "'''\n",
    "pass"
   ]
  },
  {
   "cell_type": "code",
   "execution_count": null,
   "id": "44819801-d7e0-479c-a198-000e4315fce3",
   "metadata": {},
   "outputs": [],
   "source": []
  }
 ],
 "metadata": {
  "kernelspec": {
   "display_name": "Python 3 (ipykernel)",
   "language": "python",
   "name": "python3"
  },
  "language_info": {
   "codemirror_mode": {
    "name": "ipython",
    "version": 3
   },
   "file_extension": ".py",
   "mimetype": "text/x-python",
   "name": "python",
   "nbconvert_exporter": "python",
   "pygments_lexer": "ipython3",
   "version": "3.10.8"
  }
 },
 "nbformat": 4,
 "nbformat_minor": 5
}
