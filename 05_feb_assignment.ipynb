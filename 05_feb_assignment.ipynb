{
 "cells": [
  {
   "cell_type": "code",
   "execution_count": 4,
   "id": "e0e60ca2-b561-493f-a918-ed20d0c82352",
   "metadata": {},
   "outputs": [
    {
     "name": "stdout",
     "output_type": "stream",
     "text": [
      "Honda\n",
      "Civic\n",
      "2022\n",
      "The car is driving\n",
      "The car has stopped\n"
     ]
    }
   ],
   "source": [
    "#Q1. Explain Class and Object with respect to Object-Oriented Programming. Give a suitable example.\n",
    "\n",
    "'''In Object-Oriented Programming (OOP), a class is a blueprint or template that defines the properties and behaviors of\n",
    "an object. An object, on the other hand, is an instance of a class that encapsulates its own data and methods.'''\n",
    "\n",
    "#eg:-\n",
    "\n",
    "class Car:\n",
    "    def __init__(self, make, model, year):\n",
    "        self.make = make\n",
    "        self.model = model\n",
    "        self.year = year\n",
    "    \n",
    "    def drive(self):\n",
    "        print(\"The car is driving\")\n",
    "    \n",
    "    def stop(self):\n",
    "        print(\"The car has stopped\")\n",
    "\n",
    "        \n",
    "my_car = Car(\"Honda\", \"Civic\", 2022)\n",
    "\n",
    "print(my_car.make)  \n",
    "print(my_car.model)  \n",
    "print(my_car.year) \n",
    "my_car.drive()  \n",
    "my_car.stop()  \n"
   ]
  },
  {
   "cell_type": "code",
   "execution_count": 6,
   "id": "cf06d23c-d6f4-42ac-8bdd-050c7446ed98",
   "metadata": {},
   "outputs": [],
   "source": [
    "#Q2. Name the four pillars of OOPs.\n",
    "\n",
    "#The four pillars of Object-Oriented Programming (OOP) are:\n",
    "\n",
    "'''1. Encapsulation: This refers to the practice of bundling data and methods that operate on that data within a single unit,\n",
    "   which in OOP is usually a class. Encapsulation provides information hiding, so that the internal workings of an object \n",
    "   are not visible to the outside world. This helps to reduce complexity, increase security, and improve code maintainability.'''  \n",
    "\n",
    "'''2. Abstraction: This refers to the practice of hiding unnecessary details while showing only the essential information.\n",
    "   Abstraction is achieved in OOP through the use of abstract classes and interfaces. By abstracting away the details of\n",
    "   how an object works and focusing only on what it can do, we can simplify the design of complex systems and make them \n",
    "   easier to use.'''\n",
    "\n",
    "'''3. Inheritance: This refers to the ability of a class to inherit properties and methods from another class. \n",
    "   Inheritance allows for code reuse and helps to reduce duplication of code. It also helps to create a hierarchy of \n",
    "   classes, where each class can add or override methods and properties inherited from its parent class.'''\n",
    "\n",
    "'''4. Polymorphism: This refers to the ability of an object to take on multiple forms, depending on the context in which it is used. \n",
    "   Polymorphism is achieved in OOP through method overloading and method overriding. By allowing objects to behave differently \n",
    "   in different situations, we can write more flexible and adaptable code.'''\n",
    "pass"
   ]
  },
  {
   "cell_type": "code",
   "execution_count": 7,
   "id": "4fed2eac-1030-44b7-80df-45969a0a656f",
   "metadata": {},
   "outputs": [
    {
     "name": "stdout",
     "output_type": "stream",
     "text": [
      "Hello, my name is John and I am 30 years old.\n"
     ]
    }
   ],
   "source": [
    "#Q3. Explain why the __init__() function is used. Give a suitable example.\n",
    "\n",
    "'''In Python, the __init__() function is a special method that is called when an object is created from a class. \n",
    "It is used to initialize the object's attributes with values provided as arguments, and to perform any other necessary\n",
    "setup that should be done when an object is created.'''\n",
    "\n",
    "#e.g:\n",
    "\n",
    "class Person:\n",
    "    def __init__(self, name, age):\n",
    "        self.name = name\n",
    "        self.age = age\n",
    "    \n",
    "    def greet(self):\n",
    "        print(f\"Hello, my name is {self.name} and I am {self.age} years old.\")\n",
    "\n",
    "p = Person(\"John\", 30)\n",
    "\n",
    "p.greet()  \n"
   ]
  },
  {
   "cell_type": "code",
   "execution_count": 9,
   "id": "6edfc0b1-0d8d-431a-b3c0-424b4e88e4fc",
   "metadata": {},
   "outputs": [],
   "source": [
    "#Q4. Why self is used in OOPs?\n",
    "\n",
    "'''In Object-Oriented Programming (OOP), 'self' is used to refer to the instance of a class that a method is being called on.\n",
    "It is a reference to the object itself.\n",
    "\n",
    "When you define a method in a class, the first argument of the method must be 'self', which is a convention in Python. \n",
    "This is because when you call a method on an object, Python automatically passes the object itself as the first argument to\n",
    "the method.'''\n",
    "pass"
   ]
  },
  {
   "cell_type": "code",
   "execution_count": 10,
   "id": "3f8f5148-036d-48e7-91c6-1a2b1b6c5dee",
   "metadata": {},
   "outputs": [
    {
     "name": "stdout",
     "output_type": "stream",
     "text": [
      "Fido is eating.\n",
      "I am flying.\n",
      "I am swimming.\n",
      "Fido is eating.\n",
      "Fido is sleeping.\n"
     ]
    }
   ],
   "source": [
    "#Q5. What is inheritance? Give an example for each type of inheritance.\n",
    "\n",
    "'''Inheritance is a fundamental concept in Object-Oriented Programming (OOP) that allows a class to inherit properties \n",
    "and methods from another class. The class that is being inherited from is called the parent class or super class, \n",
    "and the class that is inheriting from it is called the child class or sub class.'''\n",
    "\n",
    "'''1. Single inheritance: In single inheritance, a class inherits properties and methods from a single parent class.\n",
    "   This is the most common type of inheritance.'''\n",
    "\n",
    "class Animal:\n",
    "    def __init__(self, name):\n",
    "        self.name = name\n",
    "\n",
    "    def eat(self):\n",
    "        print(f\"{self.name} is eating.\")\n",
    "\n",
    "class Dog(Animal):\n",
    "    def bark(self):\n",
    "        print(\"Woof!\")\n",
    "\n",
    "my_dog = Dog(\"Fido\")\n",
    "\n",
    "my_dog.eat()  \n",
    "\n",
    "\n",
    "'''2. Multiple inheritance: In multiple inheritance, a class inherits properties and methods from multiple parent classes.'''\n",
    "\n",
    "class Flyer:\n",
    "    def fly(self):\n",
    "        print(\"I am flying.\")\n",
    "\n",
    "class Swimmer:\n",
    "    def swim(self):\n",
    "        print(\"I am swimming.\")\n",
    "\n",
    "class Duck(Flyer, Swimmer):\n",
    "    def quack(self):\n",
    "        print(\"Quack!\")\n",
    "\n",
    "my_duck = Duck()\n",
    "\n",
    "my_duck.fly()  \n",
    "my_duck.swim()  \n",
    "\n",
    "\n",
    "'''3. Multi-level inheritance: In multi-level inheritance, a class inherits properties and methods from a parent class,\n",
    "   which in turn inherits from another parent class.'''\n",
    "\n",
    "class Animal:\n",
    "    def __init__(self, name):\n",
    "        self.name = name\n",
    "\n",
    "    def eat(self):\n",
    "        print(f\"{self.name} is eating.\")\n",
    "\n",
    "class Mammal(Animal):\n",
    "    def sleep(self):\n",
    "        print(f\"{self.name} is sleeping.\")\n",
    "\n",
    "class Dog(Mammal):\n",
    "    def bark(self):\n",
    "        print(\"Woof!\")\n",
    "\n",
    "my_dog = Dog(\"Fido\")\n",
    "\n",
    "my_dog.eat()  \n",
    "my_dog.sleep()  \n",
    "\n",
    "\n"
   ]
  },
  {
   "cell_type": "code",
   "execution_count": null,
   "id": "c3e5c1eb-e2f4-43b5-ba12-0192a046154c",
   "metadata": {},
   "outputs": [],
   "source": []
  }
 ],
 "metadata": {
  "kernelspec": {
   "display_name": "Python 3 (ipykernel)",
   "language": "python",
   "name": "python3"
  },
  "language_info": {
   "codemirror_mode": {
    "name": "ipython",
    "version": 3
   },
   "file_extension": ".py",
   "mimetype": "text/x-python",
   "name": "python",
   "nbconvert_exporter": "python",
   "pygments_lexer": "ipython3",
   "version": "3.10.8"
  }
 },
 "nbformat": 4,
 "nbformat_minor": 5
}
