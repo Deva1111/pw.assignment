{
 "cells": [
  {
   "cell_type": "code",
   "execution_count": 18,
   "id": "f5a48924-214b-411a-a6c7-b863349561b0",
   "metadata": {},
   "outputs": [
    {
     "name": "stdin",
     "output_type": "stream",
     "text": [
      "Enter your marks/percentage:  55\n"
     ]
    },
    {
     "name": "stdout",
     "output_type": "stream",
     "text": [
      "Your grade is D\n"
     ]
    }
   ],
   "source": [
    "#Q1.Write a program to accept percentage from the user and display the grade \n",
    "\n",
    "marks = int(input(\"Enter your marks/percentage: \"))\n",
    "\n",
    "if marks > 90:\n",
    "    grade = 'A'\n",
    "elif marks > 80 and marks <=90:\n",
    "    grade = 'B'\n",
    "elif marks >= 60 and marks <= 80:\n",
    "    grade = 'C'\n",
    "else:\n",
    "    grade = 'D'\n",
    "\n",
    "print(\"Your grade is\", grade)\n"
   ]
  },
  {
   "cell_type": "code",
   "execution_count": 15,
   "id": "aa934443-bae0-49a8-a2c4-87b81bf6f0ac",
   "metadata": {},
   "outputs": [
    {
     "name": "stdin",
     "output_type": "stream",
     "text": [
      "Enter the cost of bike:  200000\n"
     ]
    },
    {
     "name": "stdout",
     "output_type": "stream",
     "text": [
      "The  % of tax to be paid is:  15%\n"
     ]
    }
   ],
   "source": [
    "#Q2.Write a program to accept the cost price of a bike and display the road tax to be paid\n",
    "\n",
    "cost = int(input(\"Enter the cost of bike: \"))\n",
    "if cost > 100000:\n",
    "    tax = '15%'\n",
    "elif cost > 50000 and cost <= 100000:\n",
    "    tax = '10%'\n",
    "else:\n",
    "    tax = '5%'\n",
    "\n",
    "print(\"The  % of tax to be paid is: \",tax)    "
   ]
  },
  {
   "cell_type": "code",
   "execution_count": 20,
   "id": "7a4ca10e-d6e8-43ab-bc9a-1a4c87b64a32",
   "metadata": {},
   "outputs": [
    {
     "name": "stdin",
     "output_type": "stream",
     "text": [
      "Enter the name of city:  Delhi\n"
     ]
    },
    {
     "name": "stdout",
     "output_type": "stream",
     "text": [
      "The monument in Delhi is: Red Fort\n"
     ]
    }
   ],
   "source": [
    "#Q3.Accept any city from the user and display monuments of that city.\n",
    "\n",
    "monument = {\"Delhi\" : 'Red Fort', \"Agra\" : 'Taj Mahal', \"Jaipur\" : 'Jal Mahal'}\n",
    "city = input(\"Enter the name of city: \")\n",
    "if city in monument:\n",
    "    print(f\"The monument in {city} is: {monument[city]}\")\n",
    "\n",
    "else:\n",
    "    print(f\"Sorry, {city} is not in our database.\")\n"
   ]
  },
  {
   "cell_type": "code",
   "execution_count": 25,
   "id": "bbfaa9c3-b56c-4ac4-82f0-5c588af06e2e",
   "metadata": {},
   "outputs": [
    {
     "name": "stdin",
     "output_type": "stream",
     "text": [
      "Enter a number:  33\n"
     ]
    },
    {
     "name": "stdout",
     "output_type": "stream",
     "text": [
      "The number can be divided by 3 2 times before it is less than or equal to 10.\n"
     ]
    }
   ],
   "source": [
    "#Q4. Check how many times a given number can be divided by 3 before it is less than or equal to 10.\n",
    "\n",
    "num = int(input(\"Enter a number: \"))\n",
    "\n",
    "count = 0\n",
    "\n",
    "while num > 10:\n",
    "    num = num / 3\n",
    "    count += 1\n",
    "\n",
    "print(\"The number can be divided by 3\", count, \"times before it is less than or equal to 10.\")\n"
   ]
  },
  {
   "cell_type": "code",
   "execution_count": 26,
   "id": "7fa0fb73-6353-4ad3-b901-19539f1fd3ae",
   "metadata": {},
   "outputs": [
    {
     "name": "stdout",
     "output_type": "stream",
     "text": [
      "1\n",
      "2\n",
      "3\n",
      "4\n",
      "5\n"
     ]
    }
   ],
   "source": [
    "#Q5.Why and When to Use while Loop in Python give a detailed description with example.\n",
    "'Python while loop is used to run a block code until a certain condition is met.'\n",
    "# program to display numbers from 1 to 5\n",
    "\n",
    "# initialize the variable\n",
    "i = 1\n",
    "n = 5\n",
    "\n",
    "# while loop from i = 1 to 5\n",
    "while i <= n:\n",
    "    print(i)\n",
    "    i = i + 1"
   ]
  },
  {
   "cell_type": "code",
   "execution_count": 27,
   "id": "5dcdfbbe-0e1e-4e82-b82a-07543417909c",
   "metadata": {},
   "outputs": [
    {
     "name": "stdout",
     "output_type": "stream",
     "text": [
      "*\n",
      "**\n",
      "***\n",
      "****\n",
      "*****\n"
     ]
    }
   ],
   "source": [
    "#Q6.Use nested while loop to print 3 different pattern.\n",
    "\n",
    "# Pattern 1:\n",
    "i = 1\n",
    "while i <= 5:\n",
    "    j = 1\n",
    "    while j <= i:\n",
    "        print(\"*\", end=\"\")\n",
    "        j += 1\n",
    "    print()\n",
    "    i += 1\n"
   ]
  },
  {
   "cell_type": "code",
   "execution_count": 28,
   "id": "9598ba39-48eb-4494-88bd-ff50786cfdf6",
   "metadata": {},
   "outputs": [
    {
     "name": "stdout",
     "output_type": "stream",
     "text": [
      "1\n",
      "12\n",
      "123\n",
      "1234\n",
      "12345\n"
     ]
    }
   ],
   "source": [
    "#Q6.Pattern 2:\n",
    "i = 1\n",
    "while i <= 5:\n",
    "    j = 1\n",
    "    while j <= i:\n",
    "        print(j, end=\"\")\n",
    "        j += 1\n",
    "    print()\n",
    "    i += 1\n",
    "\n"
   ]
  },
  {
   "cell_type": "code",
   "execution_count": 29,
   "id": "8d13f091-d947-4dc4-8421-b235d98e8909",
   "metadata": {},
   "outputs": [
    {
     "name": "stdout",
     "output_type": "stream",
     "text": [
      "1\n",
      "22\n",
      "333\n",
      "4444\n",
      "55555\n"
     ]
    }
   ],
   "source": [
    "#Q6.Pattern 3\n",
    "i = 1\n",
    "while i <= 5:\n",
    "    j = 1\n",
    "    while j <= i:\n",
    "        print(i, end=\"\")\n",
    "        j += 1\n",
    "    print()\n",
    "    i += 1\n"
   ]
  },
  {
   "cell_type": "code",
   "execution_count": 30,
   "id": "93f9abd4-f9b6-47aa-b160-89a3b10fbc19",
   "metadata": {},
   "outputs": [
    {
     "name": "stdout",
     "output_type": "stream",
     "text": [
      "10\n",
      "9\n",
      "8\n",
      "7\n",
      "6\n",
      "5\n",
      "4\n",
      "3\n",
      "2\n",
      "1\n"
     ]
    }
   ],
   "source": [
    "#Q7.Reverse a while loop to display numbers from 10 to 1.\n",
    "num = 10\n",
    "\n",
    "while num >= 1:\n",
    "    print(num)\n",
    "    num -= 1"
   ]
  },
  {
   "cell_type": "code",
   "execution_count": null,
   "id": "f41c0c24-9cf7-4135-b80d-ffaffe9abfc3",
   "metadata": {},
   "outputs": [],
   "source": [
    "#Q8."
   ]
  }
 ],
 "metadata": {
  "kernelspec": {
   "display_name": "Python 3 (ipykernel)",
   "language": "python",
   "name": "python3"
  },
  "language_info": {
   "codemirror_mode": {
    "name": "ipython",
    "version": 3
   },
   "file_extension": ".py",
   "mimetype": "text/x-python",
   "name": "python",
   "nbconvert_exporter": "python",
   "pygments_lexer": "ipython3",
   "version": "3.10.8"
  }
 },
 "nbformat": 4,
 "nbformat_minor": 5
}
