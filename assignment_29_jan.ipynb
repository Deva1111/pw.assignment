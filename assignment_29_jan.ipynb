{
 "cells": [
  {
   "cell_type": "code",
   "execution_count": null,
   "id": "f92018ca-c6c9-4a11-aa1f-768c4a44d3be",
   "metadata": {},
   "outputs": [],
   "source": [
    "1. Who developed Python Programming Language?\n",
    "=  python was created by Guido van Rossum, and released in 1991."
   ]
  },
  {
   "cell_type": "code",
   "execution_count": null,
   "id": "8b52150d-9cad-413c-b209-3942128e6871",
   "metadata": {},
   "outputs": [],
   "source": [
    "2. Which type of Programming does Python support?\n",
    "=  Python is an interpreted programming language, supporting object-oriented, structured, and functional programming."
   ]
  },
  {
   "cell_type": "code",
   "execution_count": null,
   "id": "52474fb9-b957-4404-a016-a968325f9d73",
   "metadata": {},
   "outputs": [],
   "source": [
    "3. Is Python case sensitive when dealing with identifiers?\n",
    "=  Yes, Python is a case−sensitive programming language. This means that it considers uppercase and lowercase letters differently."
   ]
  },
  {
   "cell_type": "code",
   "execution_count": null,
   "id": "d94b1b88-52e1-45e9-a6c5-f42bb1ce7f3a",
   "metadata": {},
   "outputs": [],
   "source": [
    "4. What is the correct extension of the Python file?\n",
    "= .py is a correct extension of the python file."
   ]
  },
  {
   "cell_type": "code",
   "execution_count": null,
   "id": "cc2820d7-24ef-4f4e-a358-99d6cee6ad74",
   "metadata": {},
   "outputs": [],
   "source": [
    "5. Is Python code complied or interpreted?\n",
    "=  python code is interpreted."
   ]
  },
  {
   "cell_type": "code",
   "execution_count": null,
   "id": "87d6ec13-70ca-49dd-902a-83900b5ffd44",
   "metadata": {},
   "outputs": [],
   "source": [
    "6. Name a few blocks of code used to define in Python language?\n",
    "=  a module, a function body, and a class definition."
   ]
  },
  {
   "cell_type": "code",
   "execution_count": null,
   "id": "4ee37a6f-f3b9-4013-8539-7b4ebc677a6a",
   "metadata": {},
   "outputs": [],
   "source": [
    "7. State a character used to give single-line comments in Python? \n",
    "=  a '#' character is used to give singled-lined comments."
   ]
  },
  {
   "cell_type": "code",
   "execution_count": null,
   "id": "6e7b7889-c7c8-4720-b496-8b76ec4a8171",
   "metadata": {},
   "outputs": [],
   "source": [
    "8. Mention functions which can help us to find the version of python that we are currently working on?\n",
    "=  Using sys. version method.\n",
    "   Using python_version() function.\n",
    "   Using Python -V command."
   ]
  },
  {
   "cell_type": "code",
   "execution_count": null,
   "id": "dcbdb166-75f1-4a5f-8e92-21d36c4f68d6",
   "metadata": {},
   "outputs": [],
   "source": [
    "9. Python supports the creation of anonymous functions at runtime, using a construct called.\n",
    "=  It uses a construct called \"lambda\"."
   ]
  },
  {
   "cell_type": "code",
   "execution_count": null,
   "id": "5f299a2f-d7f5-451d-a8a3-b1839769a9d0",
   "metadata": {},
   "outputs": [],
   "source": [
    "10. What does pip stand for python?\n",
    "=   Preferred Installer Program."
   ]
  },
  {
   "cell_type": "code",
   "execution_count": null,
   "id": "026bf3cc-9024-408f-a21b-b534d6a42baf",
   "metadata": {},
   "outputs": [],
   "source": [
    "11. Mention a few built-In functions in python?\n",
    "=   len(), list(), range(), sum(), min(), max(), sorted(), reversed()"
   ]
  },
  {
   "cell_type": "code",
   "execution_count": null,
   "id": "30acc0d0-cfb1-4acd-8558-c5c6a5bdcfc0",
   "metadata": {},
   "outputs": [],
   "source": [
    "12. What is the maximum possible length of an identifier in Python? \n",
    "=   79 characters"
   ]
  },
  {
   "cell_type": "code",
   "execution_count": null,
   "id": "15d6780e-7bef-4658-a339-65c6f2ab1213",
   "metadata": {},
   "outputs": [],
   "source": [
    "13. What are the benefits of using Python?\n",
    "=   Easy to Code. Python is a very high-level programming language, yet it is effortless to learn. Easy to Read. \n",
    "    Free and Open-Source. Robust Standard Library. Interpreted. Portable.Object-Oriented and Procedure-Oriented."
   ]
  },
  {
   "cell_type": "code",
   "execution_count": null,
   "id": "5f09e5b9-bf6d-4e0c-a63f-eb17a133a358",
   "metadata": {},
   "outputs": [],
   "source": [
    "14. How is memory managed in Python?\n",
    "=   Memory in Python is managed by Python private heap space."
   ]
  },
  {
   "cell_type": "code",
   "execution_count": null,
   "id": "2b323a31-f0a5-419c-94b4-be6374ba5de4",
   "metadata": {},
   "outputs": [],
   "source": [
    "15. How to Install Python on Windows and set path variables? \n",
    "=   "
   ]
  }
 ],
 "metadata": {
  "kernelspec": {
   "display_name": "Python 3 (ipykernel)",
   "language": "python",
   "name": "python3"
  },
  "language_info": {
   "codemirror_mode": {
    "name": "ipython",
    "version": 3
   },
   "file_extension": ".py",
   "mimetype": "text/x-python",
   "name": "python",
   "nbconvert_exporter": "python",
   "pygments_lexer": "ipython3",
   "version": "3.10.8"
  }
 },
 "nbformat": 4,
 "nbformat_minor": 5
}
